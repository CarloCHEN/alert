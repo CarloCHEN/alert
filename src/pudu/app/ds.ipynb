{
 "cells": [
  {
   "cell_type": "markdown",
   "id": "39e8997b",
   "metadata": {},
   "source": []
  },
  {
   "cell_type": "code",
   "execution_count": 1,
   "id": "f4a58fa8",
   "metadata": {},
   "outputs": [],
   "source": [
    "import yaml\n",
    "import logging\n",
    "from typing import Dict, List\n",
    "from datetime import datetime\n",
    "import sys\n",
    "import http.client\n",
    "import json\n",
    "import os\n",
    "os.chdir('/Users/jiaxuchen/Foxx/Monitor/pudu_robot/src')\n",
    "from pudu.app.main import *"
   ]
  },
  {
   "cell_type": "code",
   "execution_count": 2,
   "id": "c7b46628",
   "metadata": {},
   "outputs": [
    {
     "data": {
      "text/plain": [
       "True"
      ]
     },
     "execution_count": 2,
     "metadata": {},
     "output_type": "execute_result"
    }
   ],
   "source": [
    "service = NotificationService()\n",
    "service.send_notification(\n",
    "    robot_id=\"123\",\n",
    "    notification_type=\"robot_status\",\n",
    "    title=\"robot is offline\",\n",
    "    content=\"robot 123 is offline\"\n",
    ")"
   ]
  },
  {
   "cell_type": "code",
   "execution_count": null,
   "id": "a3c0fb04",
   "metadata": {},
   "outputs": [],
   "source": []
  },
  {
   "cell_type": "code",
   "execution_count": 2,
   "id": "98864a83",
   "metadata": {},
   "outputs": [],
   "source": [
    "type = 'robot_charging'"
   ]
  },
  {
   "cell_type": "code",
   "execution_count": 3,
   "id": "1774164f",
   "metadata": {},
   "outputs": [],
   "source": [
    "def send_change_based_notifications(changes_dict: Dict[str, Dict],\n",
    "                                 data_type: str, time_range: str = \"\"):\n",
    "    \"\"\"Send notifications only for records that have actual data changes\"\"\"\n",
    "    if not changes_dict:\n",
    "        print(f\"No changes detected for {data_type}, no notifications sent\")\n",
    "    # Group changes by robot_id for notification purposes\n",
    "    # Send individual notification for each changed record\n",
    "    for unique_id, change_info in changes_dict.items():\n",
    "        # Generate notification content for this specific record\n",
    "        title, content = generate_individual_notification_content(data_type, change_info, time_range)\n",
    "        print(f'{title}\\n{content}')"
   ]
  },
  {
   "cell_type": "code",
   "execution_count": 4,
   "id": "148730de",
   "metadata": {},
   "outputs": [
    {
     "data": {
      "text/plain": [
       "[<pudu.rds.rdsTable.RDSTable at 0x10cfc5340>,\n",
       " <pudu.rds.rdsTable.RDSTable at 0x10cf7aa60>]"
      ]
     },
     "execution_count": 4,
     "metadata": {},
     "output_type": "execute_result"
    }
   ],
   "source": [
    "config = DatabaseConfig(\"/Users/jiaxuchen/Foxx/Monitor/pudu_robot/src/pudu/configs/database_config.yaml\")\n",
    "tables = initialize_tables_from_config(config, type)\n",
    "tables"
   ]
  },
  {
   "cell_type": "code",
   "execution_count": 5,
   "id": "83c51c72",
   "metadata": {},
   "outputs": [],
   "source": [
    "table = tables[0]"
   ]
  },
  {
   "cell_type": "code",
   "execution_count": 6,
   "id": "7c779ec4",
   "metadata": {},
   "outputs": [
    {
     "name": "stderr",
     "output_type": "stream",
     "text": [
      "/Users/jiaxuchen/Foxx/Monitor/pudu_robot/src/pudu/rds/utils.py:138: UserWarning: pandas only supports SQLAlchemy connectable (engine/connection) or database string URI or sqlite3 DBAPI2 connection. Other DBAPI2 objects are not tested. Please consider using SQLAlchemy.\n",
      "  return pd.read_sql_query(f\"SELECT * FROM {table_name}\", connection)\n"
     ]
    },
    {
     "data": {
      "text/html": [
       "<div>\n",
       "<style scoped>\n",
       "    .dataframe tbody tr th:only-of-type {\n",
       "        vertical-align: middle;\n",
       "    }\n",
       "\n",
       "    .dataframe tbody tr th {\n",
       "        vertical-align: top;\n",
       "    }\n",
       "\n",
       "    .dataframe thead th {\n",
       "        text-align: right;\n",
       "    }\n",
       "</style>\n",
       "<table border=\"1\" class=\"dataframe\">\n",
       "  <thead>\n",
       "    <tr style=\"text-align: right;\">\n",
       "      <th></th>\n",
       "      <th>id</th>\n",
       "      <th>robot_sn</th>\n",
       "      <th>robot_name</th>\n",
       "      <th>start_time</th>\n",
       "      <th>end_time</th>\n",
       "      <th>duration</th>\n",
       "      <th>initial_power</th>\n",
       "      <th>final_power</th>\n",
       "      <th>power_gain</th>\n",
       "      <th>create_time</th>\n",
       "      <th>status</th>\n",
       "    </tr>\n",
       "  </thead>\n",
       "  <tbody>\n",
       "    <tr>\n",
       "      <th>0</th>\n",
       "      <td>1</td>\n",
       "      <td>811064412050012</td>\n",
       "      <td>USF_CC1</td>\n",
       "      <td>2024-09-19 22:43:53</td>\n",
       "      <td>2024-09-19 22:44:03</td>\n",
       "      <td>0h 00min</td>\n",
       "      <td>100%</td>\n",
       "      <td>100%</td>\n",
       "      <td>+0%</td>\n",
       "      <td>2025-03-25 00:03:20</td>\n",
       "      <td>Done</td>\n",
       "    </tr>\n",
       "    <tr>\n",
       "      <th>1</th>\n",
       "      <td>2</td>\n",
       "      <td>811064412050012</td>\n",
       "      <td>USF_CC1</td>\n",
       "      <td>2024-09-19 21:32:42</td>\n",
       "      <td>2024-09-19 21:42:47</td>\n",
       "      <td>0h 10min</td>\n",
       "      <td>100%</td>\n",
       "      <td>100%</td>\n",
       "      <td>+0%</td>\n",
       "      <td>2025-03-25 00:03:20</td>\n",
       "      <td>Done</td>\n",
       "    </tr>\n",
       "    <tr>\n",
       "      <th>2</th>\n",
       "      <td>3</td>\n",
       "      <td>811064412050012</td>\n",
       "      <td>USF_CC1</td>\n",
       "      <td>2024-09-19 21:12:11</td>\n",
       "      <td>2024-09-19 21:16:56</td>\n",
       "      <td>0h 04min</td>\n",
       "      <td>100%</td>\n",
       "      <td>100%</td>\n",
       "      <td>+0%</td>\n",
       "      <td>2025-03-25 00:03:20</td>\n",
       "      <td>Done</td>\n",
       "    </tr>\n",
       "    <tr>\n",
       "      <th>3</th>\n",
       "      <td>4</td>\n",
       "      <td>811064412050012</td>\n",
       "      <td>USF_CC1</td>\n",
       "      <td>2024-09-19 20:17:24</td>\n",
       "      <td>2024-09-19 20:17:55</td>\n",
       "      <td>0h 00min</td>\n",
       "      <td>100%</td>\n",
       "      <td>100%</td>\n",
       "      <td>+0%</td>\n",
       "      <td>2025-03-25 00:03:20</td>\n",
       "      <td>Done</td>\n",
       "    </tr>\n",
       "    <tr>\n",
       "      <th>4</th>\n",
       "      <td>5</td>\n",
       "      <td>811064412050012</td>\n",
       "      <td>USF_CC1</td>\n",
       "      <td>2024-09-19 20:09:51</td>\n",
       "      <td>2024-09-19 20:09:51</td>\n",
       "      <td>0h 00min</td>\n",
       "      <td>100%</td>\n",
       "      <td>100%</td>\n",
       "      <td>+0%</td>\n",
       "      <td>2025-03-25 00:03:20</td>\n",
       "      <td>Done</td>\n",
       "    </tr>\n",
       "    <tr>\n",
       "      <th>...</th>\n",
       "      <td>...</td>\n",
       "      <td>...</td>\n",
       "      <td>...</td>\n",
       "      <td>...</td>\n",
       "      <td>...</td>\n",
       "      <td>...</td>\n",
       "      <td>...</td>\n",
       "      <td>...</td>\n",
       "      <td>...</td>\n",
       "      <td>...</td>\n",
       "      <td>...</td>\n",
       "    </tr>\n",
       "    <tr>\n",
       "      <th>203</th>\n",
       "      <td>824</td>\n",
       "      <td>8110H4802050005</td>\n",
       "      <td>salt-lake-airport_CC1</td>\n",
       "      <td>2025-07-10 07:53:58</td>\n",
       "      <td>2025-07-10 07:56:10</td>\n",
       "      <td>0h 02min</td>\n",
       "      <td>10%</td>\n",
       "      <td>11%</td>\n",
       "      <td>+1%</td>\n",
       "      <td>2025-07-10 09:00:20</td>\n",
       "      <td>Done</td>\n",
       "    </tr>\n",
       "    <tr>\n",
       "      <th>204</th>\n",
       "      <td>825</td>\n",
       "      <td>8110H4802050005</td>\n",
       "      <td>salt-lake-airport_CC1</td>\n",
       "      <td>2025-07-10 07:51:33</td>\n",
       "      <td>2025-07-10 07:56:47</td>\n",
       "      <td>0h 05min</td>\n",
       "      <td>8%</td>\n",
       "      <td>10%</td>\n",
       "      <td>+2%</td>\n",
       "      <td>2025-07-10 09:00:20</td>\n",
       "      <td>Done</td>\n",
       "    </tr>\n",
       "    <tr>\n",
       "      <th>205</th>\n",
       "      <td>860</td>\n",
       "      <td>811135422060217</td>\n",
       "      <td>Mobiltech_CC1</td>\n",
       "      <td>2025-07-23 18:54:46</td>\n",
       "      <td>2025-07-23 18:59:55</td>\n",
       "      <td>0h 05min</td>\n",
       "      <td>64%</td>\n",
       "      <td>66%</td>\n",
       "      <td>+2%</td>\n",
       "      <td>2025-07-23 19:11:15</td>\n",
       "      <td>None</td>\n",
       "    </tr>\n",
       "    <tr>\n",
       "      <th>206</th>\n",
       "      <td>865</td>\n",
       "      <td>811135422060217</td>\n",
       "      <td>Mobiltech_CC1</td>\n",
       "      <td>2025-07-23 19:24:05</td>\n",
       "      <td>2025-07-23 19:45:47</td>\n",
       "      <td>0h 21min</td>\n",
       "      <td>66%</td>\n",
       "      <td>76%</td>\n",
       "      <td>+10%</td>\n",
       "      <td>2025-07-23 19:36:15</td>\n",
       "      <td>None</td>\n",
       "    </tr>\n",
       "    <tr>\n",
       "      <th>207</th>\n",
       "      <td>971</td>\n",
       "      <td>811135422060217</td>\n",
       "      <td>Mobiltech_CC1</td>\n",
       "      <td>2025-07-24 17:17:46</td>\n",
       "      <td>2025-07-25 13:52:36</td>\n",
       "      <td>20h 34min</td>\n",
       "      <td>66%</td>\n",
       "      <td>100%</td>\n",
       "      <td>+34%</td>\n",
       "      <td>2025-07-24 17:26:19</td>\n",
       "      <td>None</td>\n",
       "    </tr>\n",
       "  </tbody>\n",
       "</table>\n",
       "<p>208 rows × 11 columns</p>\n",
       "</div>"
      ],
      "text/plain": [
       "      id         robot_sn             robot_name          start_time  \\\n",
       "0      1  811064412050012                USF_CC1 2024-09-19 22:43:53   \n",
       "1      2  811064412050012                USF_CC1 2024-09-19 21:32:42   \n",
       "2      3  811064412050012                USF_CC1 2024-09-19 21:12:11   \n",
       "3      4  811064412050012                USF_CC1 2024-09-19 20:17:24   \n",
       "4      5  811064412050012                USF_CC1 2024-09-19 20:09:51   \n",
       "..   ...              ...                    ...                 ...   \n",
       "203  824  8110H4802050005  salt-lake-airport_CC1 2025-07-10 07:53:58   \n",
       "204  825  8110H4802050005  salt-lake-airport_CC1 2025-07-10 07:51:33   \n",
       "205  860  811135422060217          Mobiltech_CC1 2025-07-23 18:54:46   \n",
       "206  865  811135422060217          Mobiltech_CC1 2025-07-23 19:24:05   \n",
       "207  971  811135422060217          Mobiltech_CC1 2025-07-24 17:17:46   \n",
       "\n",
       "               end_time   duration initial_power final_power power_gain  \\\n",
       "0   2024-09-19 22:44:03   0h 00min          100%        100%        +0%   \n",
       "1   2024-09-19 21:42:47   0h 10min          100%        100%        +0%   \n",
       "2   2024-09-19 21:16:56   0h 04min          100%        100%        +0%   \n",
       "3   2024-09-19 20:17:55   0h 00min          100%        100%        +0%   \n",
       "4   2024-09-19 20:09:51   0h 00min          100%        100%        +0%   \n",
       "..                  ...        ...           ...         ...        ...   \n",
       "203 2025-07-10 07:56:10   0h 02min           10%         11%        +1%   \n",
       "204 2025-07-10 07:56:47   0h 05min            8%         10%        +2%   \n",
       "205 2025-07-23 18:59:55   0h 05min           64%         66%        +2%   \n",
       "206 2025-07-23 19:45:47   0h 21min           66%         76%       +10%   \n",
       "207 2025-07-25 13:52:36  20h 34min           66%        100%       +34%   \n",
       "\n",
       "            create_time status  \n",
       "0   2025-03-25 00:03:20   Done  \n",
       "1   2025-03-25 00:03:20   Done  \n",
       "2   2025-03-25 00:03:20   Done  \n",
       "3   2025-03-25 00:03:20   Done  \n",
       "4   2025-03-25 00:03:20   Done  \n",
       "..                  ...    ...  \n",
       "203 2025-07-10 09:00:20   Done  \n",
       "204 2025-07-10 09:00:20   Done  \n",
       "205 2025-07-23 19:11:15   None  \n",
       "206 2025-07-23 19:36:15   None  \n",
       "207 2025-07-24 17:26:19   None  \n",
       "\n",
       "[208 rows x 11 columns]"
      ]
     },
     "execution_count": 6,
     "metadata": {},
     "output_type": "execute_result"
    }
   ],
   "source": [
    "table.query_data_as_df()"
   ]
  },
  {
   "cell_type": "code",
   "execution_count": 10,
   "id": "0ef2676e",
   "metadata": {},
   "outputs": [
    {
     "name": "stderr",
     "output_type": "stream",
     "text": [
      "/Users/jiaxuchen/Foxx/Monitor/pudu_robot/src/pudu/rds/utils.py:138: UserWarning: pandas only supports SQLAlchemy connectable (engine/connection) or database string URI or sqlite3 DBAPI2 connection. Other DBAPI2 objects are not tested. Please consider using SQLAlchemy.\n",
      "  return pd.read_sql_query(f\"SELECT * FROM {table_name}\", connection)\n"
     ]
    }
   ],
   "source": [
    "data_list = table.query_data_as_df().to_dict(orient='records')"
   ]
  },
  {
   "cell_type": "code",
   "execution_count": 11,
   "id": "1085b6bc",
   "metadata": {},
   "outputs": [
    {
     "data": {
      "text/plain": [
       "{'811064412050012_2024-09-19 21:32:42_2024-09-19 21:42:47': {'robot_id': '811064412050012',\n",
       "  'primary_key_values': {'robot_sn': '811064412050012',\n",
       "   'start_time': Timestamp('2024-09-19 21:32:42'),\n",
       "   'end_time': Timestamp('2024-09-19 21:42:47')},\n",
       "  'change_type': 'update',\n",
       "  'changed_fields': ['initial_power'],\n",
       "  'old_values': {'id': 2,\n",
       "   'robot_sn': '811064412050012',\n",
       "   'robot_name': 'USF_CC1',\n",
       "   'start_time': datetime.datetime(2024, 9, 19, 21, 32, 42),\n",
       "   'end_time': datetime.datetime(2024, 9, 19, 21, 42, 47),\n",
       "   'duration': '0h 10min',\n",
       "   'initial_power': '100%',\n",
       "   'final_power': '100%',\n",
       "   'power_gain': '+0%',\n",
       "   'create_time': datetime.datetime(2025, 3, 25, 0, 3, 20),\n",
       "   'status': 'Done'},\n",
       "  'new_values': {'id': 2,\n",
       "   'robot_sn': '811064412050012',\n",
       "   'robot_name': 'USF_CC1',\n",
       "   'start_time': Timestamp('2024-09-19 21:32:42'),\n",
       "   'end_time': Timestamp('2024-09-19 21:42:47'),\n",
       "   'duration': '0h 10min',\n",
       "   'initial_power': '123',\n",
       "   'final_power': '100%',\n",
       "   'power_gain': '+0%',\n",
       "   'create_time': Timestamp('2025-03-25 00:03:20'),\n",
       "   'status': 'Done'}},\n",
       " '811064412050012_2024-09-19 21:12:11_2024-09-19 21:16:56': {'robot_id': '811064412050012',\n",
       "  'primary_key_values': {'robot_sn': '811064412050012',\n",
       "   'start_time': Timestamp('2024-09-19 21:12:11'),\n",
       "   'end_time': Timestamp('2024-09-19 21:16:56')},\n",
       "  'change_type': 'update',\n",
       "  'changed_fields': ['initial_power'],\n",
       "  'old_values': {'id': 3,\n",
       "   'robot_sn': '811064412050012',\n",
       "   'robot_name': 'USF_CC1',\n",
       "   'start_time': datetime.datetime(2024, 9, 19, 21, 12, 11),\n",
       "   'end_time': datetime.datetime(2024, 9, 19, 21, 16, 56),\n",
       "   'duration': '0h 04min',\n",
       "   'initial_power': '100%',\n",
       "   'final_power': '100%',\n",
       "   'power_gain': '+0%',\n",
       "   'create_time': datetime.datetime(2025, 3, 25, 0, 3, 20),\n",
       "   'status': 'Done'},\n",
       "  'new_values': {'id': 3,\n",
       "   'robot_sn': '811064412050012',\n",
       "   'robot_name': 'USF_CC1',\n",
       "   'start_time': Timestamp('2024-09-19 21:12:11'),\n",
       "   'end_time': Timestamp('2024-09-19 21:16:56'),\n",
       "   'duration': '0h 04min',\n",
       "   'initial_power': '321',\n",
       "   'final_power': '100%',\n",
       "   'power_gain': '+0%',\n",
       "   'create_time': Timestamp('2025-03-25 00:03:20'),\n",
       "   'status': 'Done'}}}"
      ]
     },
     "execution_count": 11,
     "metadata": {},
     "output_type": "execute_result"
    }
   ],
   "source": [
    "# data_list[0]['event_level'] = 'severe'\n",
    "# data_list[2]['event_level'] = 'severe'\n",
    "# data_list[0]['progress'] +=1\n",
    "data_list[1]['initial_power'] = '123'\n",
    "data_list[2]['initial_power'] = '321'\n",
    "# new_entries = [data_list[0].copy(), data_list[1].copy()]\n",
    "# new_entries[0]['robot_sn'] = '123'\n",
    "# new_entries[1]['robot_sn'] = '321'\n",
    "# data_list = new_entries + data_list\n",
    "\n",
    "changes = detect_data_changes(table, data_list, table.primary_keys)\n",
    "changes"
   ]
  },
  {
   "cell_type": "code",
   "execution_count": 12,
   "id": "c10cc116",
   "metadata": {},
   "outputs": [
    {
     "name": "stdout",
     "output_type": "stream",
     "text": [
      "Charging Session Updated\n",
      "Robot 811064412050012 charging session (started 2024-09-19 21:32:42) updated: initial_power\n",
      "Charging Session Updated\n",
      "Robot 811064412050012 charging session (started 2024-09-19 21:12:11) updated: initial_power\n"
     ]
    }
   ],
   "source": [
    "send_change_based_notifications(changes, type, '2025-07-23 00:00:00')"
   ]
  },
  {
   "cell_type": "code",
   "execution_count": null,
   "id": "beb859fc",
   "metadata": {},
   "outputs": [],
   "source": []
  },
  {
   "cell_type": "code",
   "execution_count": null,
   "id": "1ded51d4",
   "metadata": {},
   "outputs": [],
   "source": []
  }
 ],
 "metadata": {
  "kernelspec": {
   "display_name": "oracle",
   "language": "python",
   "name": "python3"
  },
  "language_info": {
   "codemirror_mode": {
    "name": "ipython",
    "version": 3
   },
   "file_extension": ".py",
   "mimetype": "text/x-python",
   "name": "python",
   "nbconvert_exporter": "python",
   "pygments_lexer": "ipython3",
   "version": "3.8.6"
  }
 },
 "nbformat": 4,
 "nbformat_minor": 5
}
